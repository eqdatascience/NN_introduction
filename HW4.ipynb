{
  "nbformat": 4,
  "nbformat_minor": 0,
  "metadata": {
    "colab": {
      "name": "HW4_1.ipynb",
      "provenance": [],
      "collapsed_sections": []
    },
    "kernelspec": {
      "name": "python3",
      "display_name": "Python 3"
    },
    "language_info": {
      "name": "python"
    }
  },
  "cells": [
    {
      "cell_type": "code",
      "metadata": {
        "id": "_suV8X-mrCgo"
      },
      "source": [
        "from tensorflow.keras.datasets import cifar10\n",
        "from tensorflow.keras.utils import to_categorical\n",
        "from tensorflow.keras.models import Sequential\n",
        "from tensorflow.keras import models, layers\n",
        "from tensorflow.keras.layers import Dense\n",
        "import tensorflow.keras as keras"
      ],
      "execution_count": 28,
      "outputs": []
    },
    {
      "cell_type": "markdown",
      "metadata": {
        "id": "kig_GQjW6hP0"
      },
      "source": [
        "Загрузка датасета"
      ]
    },
    {
      "cell_type": "code",
      "metadata": {
        "colab": {
          "base_uri": "https://localhost:8080/"
        },
        "id": "rEqxAAECrc6Y",
        "outputId": "9a871290-335d-4f3e-a4a2-e881983c3481"
      },
      "source": [
        "(X_train, y_train), (X_test, y_test) = cifar10.load_data()\n",
        "print(X_train.shape)\n",
        "print(X_test.shape)"
      ],
      "execution_count": 3,
      "outputs": [
        {
          "output_type": "stream",
          "text": [
            "Downloading data from https://www.cs.toronto.edu/~kriz/cifar-10-python.tar.gz\n",
            "170500096/170498071 [==============================] - 6s 0us/step\n",
            "(50000, 32, 32, 3)\n",
            "(10000, 32, 32, 3)\n"
          ],
          "name": "stdout"
        }
      ]
    },
    {
      "cell_type": "code",
      "metadata": {
        "id": "zTsEf-B4r2at"
      },
      "source": [
        "# нормализация данных [0, 1]\n",
        "X_train = X_train / 255.0\n",
        "X_test = X_test / 255.0\n",
        "\n",
        "# трансформация лейблов в one-hot encoding\n",
        "y_train = to_categorical(y_train, 10) \n",
        "y_test = to_categorical(y_test, 10) "
      ],
      "execution_count": 4,
      "outputs": []
    },
    {
      "cell_type": "markdown",
      "metadata": {
        "id": "tPPxf7xy6oDx"
      },
      "source": [
        "Базовая модель: 3 свертки по убыванию: 5х5, 4х4, 3х3"
      ]
    },
    {
      "cell_type": "code",
      "metadata": {
        "colab": {
          "base_uri": "https://localhost:8080/"
        },
        "id": "a70PD-XkutPL",
        "outputId": "7d27a570-a347-4899-bece-6c462f90cfa7"
      },
      "source": [
        "from tensorflow.keras.models import Model \n",
        "# инициализация пустой модели\n",
        "model = Sequential()\n",
        "# первый сверточный слой\n",
        "model.add(layers.Conv2D(2, (5, 5), strides=(1, 1),\n",
        "                        activation='relu',\n",
        "                        input_shape=(32, 32, 3),\n",
        "                        padding=\"valid\"))\n",
        "# второй пуллинговый слой\n",
        "model.add(layers.AveragePooling2D(pool_size=(2, 2),\n",
        "                                  strides=(1, 1),\n",
        "                                  padding='same'))\n",
        "# третий сверточный слой\n",
        "model.add(layers.Conv2D(4, (4, 4), strides=(1, 1),\n",
        "                        activation='relu',\n",
        "                        padding='same'))\n",
        "\n",
        "# четвертый пуллинговый слой\n",
        "model.add(layers.AveragePooling2D(pool_size=(2, 2),\n",
        "                                  strides=(2, 2),\n",
        "                                  padding='same'))\n",
        "# пятый сверточный слой\n",
        "model.add(layers.Conv2D(8, (3, 3), strides=(1, 1),\n",
        "                        activation='sigmoid',\n",
        "                        padding='valid'))\n",
        "\n",
        "# шестой пуллинговый слой\n",
        "model.add(layers.MaxPooling2D(pool_size=(2, 2),\n",
        "                                  strides=(2, 2),\n",
        "                                  padding='same'))\n",
        "# сглаживание CNN выхода чтобы можно было его присоединить к полносвязному слою\n",
        "model.add(layers.Flatten())\n",
        "\n",
        "# полносвязный слой\n",
        "model.add(layers.Dense(72, activation='relu'))\n",
        "# полносвязный слой\n",
        "model.add(layers.Dense(32, activation='relu'))\n",
        "# выходной слой с функцией активации softmax\n",
        "model.add(layers.Dense(10, activation='softmax'))\n",
        "model.summary()"
      ],
      "execution_count": 5,
      "outputs": [
        {
          "output_type": "stream",
          "text": [
            "Model: \"sequential\"\n",
            "_________________________________________________________________\n",
            "Layer (type)                 Output Shape              Param #   \n",
            "=================================================================\n",
            "conv2d (Conv2D)              (None, 28, 28, 2)         152       \n",
            "_________________________________________________________________\n",
            "average_pooling2d (AveragePo (None, 28, 28, 2)         0         \n",
            "_________________________________________________________________\n",
            "conv2d_1 (Conv2D)            (None, 28, 28, 4)         132       \n",
            "_________________________________________________________________\n",
            "average_pooling2d_1 (Average (None, 14, 14, 4)         0         \n",
            "_________________________________________________________________\n",
            "conv2d_2 (Conv2D)            (None, 12, 12, 8)         296       \n",
            "_________________________________________________________________\n",
            "max_pooling2d (MaxPooling2D) (None, 6, 6, 8)           0         \n",
            "_________________________________________________________________\n",
            "flatten (Flatten)            (None, 288)               0         \n",
            "_________________________________________________________________\n",
            "dense (Dense)                (None, 72)                20808     \n",
            "_________________________________________________________________\n",
            "dense_1 (Dense)              (None, 32)                2336      \n",
            "_________________________________________________________________\n",
            "dense_2 (Dense)              (None, 10)                330       \n",
            "=================================================================\n",
            "Total params: 24,054\n",
            "Trainable params: 24,054\n",
            "Non-trainable params: 0\n",
            "_________________________________________________________________\n"
          ],
          "name": "stdout"
        }
      ]
    },
    {
      "cell_type": "code",
      "metadata": {
        "colab": {
          "base_uri": "https://localhost:8080/"
        },
        "id": "Ud7Ok4idyiXe",
        "outputId": "f969dde6-1e57-4f0c-af93-607b8b010480"
      },
      "source": [
        "# компиляция модели\n",
        "model.compile(loss=keras.losses.categorical_crossentropy,\n",
        "              optimizer='adam',\n",
        "              metrics=[\"accuracy\"])\n",
        "\n",
        "\n",
        "hist = model.fit(X_train, y_train,\n",
        "                 epochs=5,\n",
        "                 batch_size=256,\n",
        "                 validation_data=(X_test, y_test),\n",
        "                 verbose=1)"
      ],
      "execution_count": 17,
      "outputs": [
        {
          "output_type": "stream",
          "text": [
            "Epoch 1/5\n",
            "196/196 [==============================] - 37s 187ms/step - loss: 2.3089 - accuracy: 0.0979 - val_loss: 2.2902 - val_accuracy: 0.1300\n",
            "Epoch 2/5\n",
            "196/196 [==============================] - 36s 184ms/step - loss: 2.1935 - accuracy: 0.1794 - val_loss: 1.9119 - val_accuracy: 0.2947\n",
            "Epoch 3/5\n",
            "196/196 [==============================] - 36s 186ms/step - loss: 1.8873 - accuracy: 0.3022 - val_loss: 1.8041 - val_accuracy: 0.3334\n",
            "Epoch 4/5\n",
            "196/196 [==============================] - 36s 184ms/step - loss: 1.7894 - accuracy: 0.3408 - val_loss: 1.7823 - val_accuracy: 0.3471\n",
            "Epoch 5/5\n",
            "196/196 [==============================] - 36s 185ms/step - loss: 1.7483 - accuracy: 0.3529 - val_loss: 1.7259 - val_accuracy: 0.3689\n"
          ],
          "name": "stdout"
        }
      ]
    },
    {
      "cell_type": "code",
      "metadata": {
        "colab": {
          "base_uri": "https://localhost:8080/"
        },
        "id": "tz4dXm556Z37",
        "outputId": "d09fb7be-f9b4-4465-8544-f2e167bc060e"
      },
      "source": [
        "test_loss, test_metric = model.evaluate(X_test, y_test)\n",
        "print(f\"Test loss {test_loss:.4f}, accuracy {test_metric:.2f}%\")"
      ],
      "execution_count": 18,
      "outputs": [
        {
          "output_type": "stream",
          "text": [
            "313/313 [==============================] - 4s 12ms/step - loss: 1.7259 - accuracy: 0.3689\n",
            "Test loss 1.7259, accuracy 0.37%\n"
          ],
          "name": "stdout"
        }
      ]
    },
    {
      "cell_type": "markdown",
      "metadata": {
        "id": "94BfAu7d7QcR"
      },
      "source": [
        "Добавим фильтров: 4, 8, 16 соответственно"
      ]
    },
    {
      "cell_type": "code",
      "metadata": {
        "colab": {
          "base_uri": "https://localhost:8080/"
        },
        "id": "QZT8qewd6aLN",
        "outputId": "f01aca80-54b0-4f89-a4f9-66e077eed5d4"
      },
      "source": [
        "from tensorflow.keras.models import Model \n",
        "# инициализация пустой модели\n",
        "model2 = Sequential()\n",
        "# первый сверточный слой\n",
        "model2.add(layers.Conv2D(4, (5, 5), strides=(1, 1),\n",
        "                        activation='relu',\n",
        "                        input_shape=(32, 32, 3),\n",
        "                        padding=\"valid\"))\n",
        "# второй пуллинговый слой\n",
        "model2.add(layers.AveragePooling2D(pool_size=(2, 2),\n",
        "                                  strides=(1, 1),\n",
        "                                  padding='same'))\n",
        "# третий сверточный слой\n",
        "model2.add(layers.Conv2D(8, (4, 4), strides=(1, 1),\n",
        "                        activation='relu',\n",
        "                        padding='same'))\n",
        "\n",
        "# четвертый пуллинговый слой\n",
        "model2.add(layers.AveragePooling2D(pool_size=(2, 2),\n",
        "                                  strides=(2, 2),\n",
        "                                  padding='same'))\n",
        "# пятый сверточный слой\n",
        "model2.add(layers.Conv2D(16, (3, 3), strides=(1, 1),\n",
        "                        activation='sigmoid',\n",
        "                        padding='valid'))\n",
        "\n",
        "# шестой пуллинговый слой\n",
        "model2.add(layers.MaxPooling2D(pool_size=(2, 2),\n",
        "                                  strides=(2, 2),\n",
        "                                  padding='same'))\n",
        "# сглаживание CNN выхода чтобы можно было его присоединить к полносвязному слою\n",
        "model2.add(layers.Flatten())\n",
        "\n",
        "# полносвязный слой\n",
        "model2.add(layers.Dense(128, activation='relu'))\n",
        "# полносвязный слой\n",
        "model2.add(layers.Dense(32, activation='relu'))\n",
        "# выходной слой с функцией активации softmax\n",
        "model2.add(layers.Dense(10, activation='softmax'))\n",
        "model2.summary()"
      ],
      "execution_count": 7,
      "outputs": [
        {
          "output_type": "stream",
          "text": [
            "Model: \"sequential_1\"\n",
            "_________________________________________________________________\n",
            "Layer (type)                 Output Shape              Param #   \n",
            "=================================================================\n",
            "conv2d_3 (Conv2D)            (None, 28, 28, 4)         304       \n",
            "_________________________________________________________________\n",
            "average_pooling2d_2 (Average (None, 28, 28, 4)         0         \n",
            "_________________________________________________________________\n",
            "conv2d_4 (Conv2D)            (None, 28, 28, 8)         520       \n",
            "_________________________________________________________________\n",
            "average_pooling2d_3 (Average (None, 14, 14, 8)         0         \n",
            "_________________________________________________________________\n",
            "conv2d_5 (Conv2D)            (None, 12, 12, 16)        1168      \n",
            "_________________________________________________________________\n",
            "max_pooling2d_1 (MaxPooling2 (None, 6, 6, 16)          0         \n",
            "_________________________________________________________________\n",
            "flatten_1 (Flatten)          (None, 576)               0         \n",
            "_________________________________________________________________\n",
            "dense_3 (Dense)              (None, 128)               73856     \n",
            "_________________________________________________________________\n",
            "dense_4 (Dense)              (None, 32)                4128      \n",
            "_________________________________________________________________\n",
            "dense_5 (Dense)              (None, 10)                330       \n",
            "=================================================================\n",
            "Total params: 80,306\n",
            "Trainable params: 80,306\n",
            "Non-trainable params: 0\n",
            "_________________________________________________________________\n"
          ],
          "name": "stdout"
        }
      ]
    },
    {
      "cell_type": "code",
      "metadata": {
        "colab": {
          "base_uri": "https://localhost:8080/"
        },
        "id": "dVp61ziF7cT9",
        "outputId": "d3674b82-5d73-46db-c9c7-ae28954e299f"
      },
      "source": [
        "# компиляция модели\n",
        "model2.compile(loss=keras.losses.categorical_crossentropy,\n",
        "              optimizer='adam',\n",
        "              metrics=[\"accuracy\"])\n",
        "\n",
        "\n",
        "hist2 = model2.fit(X_train, y_train,\n",
        "                 epochs=5,\n",
        "                 batch_size=256,\n",
        "                 validation_data=(X_test, y_test),\n",
        "                 verbose=1)"
      ],
      "execution_count": 8,
      "outputs": [
        {
          "output_type": "stream",
          "text": [
            "Epoch 1/5\n",
            "196/196 [==============================] - 40s 200ms/step - loss: 2.2435 - accuracy: 0.1496 - val_loss: 1.9732 - val_accuracy: 0.2677\n",
            "Epoch 2/5\n",
            "196/196 [==============================] - 39s 200ms/step - loss: 1.9143 - accuracy: 0.2859 - val_loss: 1.7303 - val_accuracy: 0.3639\n",
            "Epoch 3/5\n",
            "196/196 [==============================] - 39s 201ms/step - loss: 1.7051 - accuracy: 0.3687 - val_loss: 1.6249 - val_accuracy: 0.4044\n",
            "Epoch 4/5\n",
            "196/196 [==============================] - 39s 198ms/step - loss: 1.6061 - accuracy: 0.4102 - val_loss: 1.5394 - val_accuracy: 0.4312\n",
            "Epoch 5/5\n",
            "196/196 [==============================] - 39s 199ms/step - loss: 1.5367 - accuracy: 0.4381 - val_loss: 1.5027 - val_accuracy: 0.4474\n"
          ],
          "name": "stdout"
        }
      ]
    },
    {
      "cell_type": "code",
      "metadata": {
        "colab": {
          "base_uri": "https://localhost:8080/"
        },
        "id": "FfLPaepB8O3D",
        "outputId": "3c759310-a9c2-44a5-9369-c3167206b4c3"
      },
      "source": [
        "test_loss2, test_metric2 = model2.evaluate(X_test, y_test)\n",
        "print(f\"Test loss {test_loss2:.4f}, accuracy {test_metric2:.2f}%\")"
      ],
      "execution_count": 19,
      "outputs": [
        {
          "output_type": "stream",
          "text": [
            "313/313 [==============================] - 4s 12ms/step - loss: 1.5027 - accuracy: 0.4474\n",
            "Test loss 1.5027, accuracy 0.45%\n"
          ],
          "name": "stdout"
        }
      ]
    },
    {
      "cell_type": "code",
      "metadata": {
        "id": "MlVZscXu8hVQ"
      },
      "source": [
        "y_pred = model2.predict(X_test)"
      ],
      "execution_count": 10,
      "outputs": []
    },
    {
      "cell_type": "code",
      "metadata": {
        "colab": {
          "base_uri": "https://localhost:8080/",
          "height": 548
        },
        "id": "ZNyiakFP8hYU",
        "outputId": "93a0eff9-e5dc-4613-f5ca-bec0b7ec9ad0"
      },
      "source": [
        "import matplotlib.pyplot as plt\n",
        "plt.plot(y_pred[1][:])\n",
        "plt.show()\n",
        "print(y_pred[1][:])\n",
        "plt.imshow(X_test[1][:,:,0])\n",
        "plt.show()"
      ],
      "execution_count": 11,
      "outputs": [
        {
          "output_type": "display_data",
          "data": {
            "image/png": "[encoded data removed]",
            "text/plain": [
              "<Figure size 432x288 with 1 Axes>"
            ]
          },
          "metadata": {
            "tags": [],
            "needs_background": "light"
          }
        },
        {
          "output_type": "stream",
          "text": [
            "[8.4409781e-02 5.1181537e-01 2.8535186e-03 1.6340132e-04 1.8733018e-03\n",
            " 9.7324271e-05 5.4620189e-04 2.0338358e-04 2.0264883e-01 1.9538887e-01]\n"
          ],
          "name": "stdout"
        },
        {
          "output_type": "display_data",
          "data": {
            "image/png": "[encoded data removed]",
            "text/plain": [
              "<Figure size 432x288 with 1 Axes>"
            ]
          },
          "metadata": {
            "tags": [],
            "needs_background": "light"
          }
        }
      ]
    },
    {
      "cell_type": "markdown",
      "metadata": {
        "id": "Zed78iAC7p5l"
      },
      "source": [
        "Качество выросло с 37 до 45%.\n",
        "Добавим еще фильтров: 8, 16, 32"
      ]
    },
    {
      "cell_type": "code",
      "metadata": {
        "colab": {
          "base_uri": "https://localhost:8080/"
        },
        "id": "reeBavD0-Llq",
        "outputId": "f9089682-e019-401a-dad8-b7f3d769a93a"
      },
      "source": [
        "# инициализация пустой модели\n",
        "model3 = Sequential()\n",
        "# первый сверточный слой\n",
        "model3.add(layers.Conv2D(8, (5, 5), strides=(1, 1),\n",
        "                        activation='relu',\n",
        "                        input_shape=(32, 32, 3),\n",
        "                        padding=\"valid\"))\n",
        "# второй пуллинговый слой\n",
        "model3.add(layers.AveragePooling2D(pool_size=(2, 2),\n",
        "                                  strides=(1, 1),\n",
        "                                  padding='same'))\n",
        "# третий сверточный слой\n",
        "model3.add(layers.Conv2D(16, (4, 4), strides=(1, 1),\n",
        "                        activation='relu',\n",
        "                        padding='same'))\n",
        "\n",
        "# четвертый пуллинговый слой\n",
        "model3.add(layers.AveragePooling2D(pool_size=(2, 2),\n",
        "                                  strides=(2, 2),\n",
        "                                  padding='same'))\n",
        "# пятый сверточный слой\n",
        "model3.add(layers.Conv2D(32, (3, 3), strides=(1, 1),\n",
        "                        activation='sigmoid',\n",
        "                        padding='valid'))\n",
        "\n",
        "# шестой пуллинговый слой\n",
        "model3.add(layers.MaxPooling2D(pool_size=(2, 2),\n",
        "                                  strides=(2, 2),\n",
        "                                  padding='same'))\n",
        "# сглаживание CNN выхода чтобы можно было его присоединить к полносвязному слою\n",
        "model3.add(layers.Flatten())\n",
        "\n",
        "# полносвязный слой\n",
        "model3.add(layers.Dense(256, activation='relu'))\n",
        "# полносвязный слой\n",
        "model3.add(layers.Dense(64, activation='relu'))\n",
        "# выходной слой с функцией активации softmax\n",
        "model3.add(layers.Dense(10, activation='softmax'))\n",
        "model3.summary()"
      ],
      "execution_count": 12,
      "outputs": [
        {
          "output_type": "stream",
          "text": [
            "Model: \"sequential_2\"\n",
            "_________________________________________________________________\n",
            "Layer (type)                 Output Shape              Param #   \n",
            "=================================================================\n",
            "conv2d_6 (Conv2D)            (None, 28, 28, 8)         608       \n",
            "_________________________________________________________________\n",
            "average_pooling2d_4 (Average (None, 28, 28, 8)         0         \n",
            "_________________________________________________________________\n",
            "conv2d_7 (Conv2D)            (None, 28, 28, 16)        2064      \n",
            "_________________________________________________________________\n",
            "average_pooling2d_5 (Average (None, 14, 14, 16)        0         \n",
            "_________________________________________________________________\n",
            "conv2d_8 (Conv2D)            (None, 12, 12, 32)        4640      \n",
            "_________________________________________________________________\n",
            "max_pooling2d_2 (MaxPooling2 (None, 6, 6, 32)          0         \n",
            "_________________________________________________________________\n",
            "flatten_2 (Flatten)          (None, 1152)              0         \n",
            "_________________________________________________________________\n",
            "dense_6 (Dense)              (None, 256)               295168    \n",
            "_________________________________________________________________\n",
            "dense_7 (Dense)              (None, 64)                16448     \n",
            "_________________________________________________________________\n",
            "dense_8 (Dense)              (None, 10)                650       \n",
            "=================================================================\n",
            "Total params: 319,578\n",
            "Trainable params: 319,578\n",
            "Non-trainable params: 0\n",
            "_________________________________________________________________\n"
          ],
          "name": "stdout"
        }
      ]
    },
    {
      "cell_type": "code",
      "metadata": {
        "colab": {
          "base_uri": "https://localhost:8080/"
        },
        "id": "SygHsDCJ_E3j",
        "outputId": "797b1e8a-d4c8-462b-8b4e-0332929343f2"
      },
      "source": [
        "# компиляция модели\n",
        "model3.compile(loss=keras.losses.categorical_crossentropy,\n",
        "              optimizer='adam',\n",
        "              metrics=[\"accuracy\"])\n",
        "\n",
        "\n",
        "hist3 = model3.fit(X_train, y_train,\n",
        "                 epochs=5,\n",
        "                 batch_size=256,\n",
        "                 validation_data=(X_test, y_test),\n",
        "                 verbose=1)"
      ],
      "execution_count": 13,
      "outputs": [
        {
          "output_type": "stream",
          "text": [
            "Epoch 1/5\n",
            "196/196 [==============================] - 52s 261ms/step - loss: 2.1735 - accuracy: 0.1812 - val_loss: 1.7124 - val_accuracy: 0.3789\n",
            "Epoch 2/5\n",
            "196/196 [==============================] - 51s 262ms/step - loss: 1.6923 - accuracy: 0.3812 - val_loss: 1.5698 - val_accuracy: 0.4264\n",
            "Epoch 3/5\n",
            "196/196 [==============================] - 52s 266ms/step - loss: 1.5768 - accuracy: 0.4216 - val_loss: 1.5568 - val_accuracy: 0.4324\n",
            "Epoch 4/5\n",
            "196/196 [==============================] - 52s 264ms/step - loss: 1.5140 - accuracy: 0.4492 - val_loss: 1.4941 - val_accuracy: 0.4519\n",
            "Epoch 5/5\n",
            "196/196 [==============================] - 51s 263ms/step - loss: 1.4446 - accuracy: 0.4746 - val_loss: 1.4001 - val_accuracy: 0.4917\n"
          ],
          "name": "stdout"
        }
      ]
    },
    {
      "cell_type": "code",
      "metadata": {
        "colab": {
          "base_uri": "https://localhost:8080/"
        },
        "id": "1_Y2E37e_Ww7",
        "outputId": "8f891f0a-4c33-4d3b-e265-365e20b0c620"
      },
      "source": [
        "test_loss3, test_metric3 = model3.evaluate(X_test, y_test)\n",
        "print(f\"Test loss {test_loss3:.4f}, accuracy {test_metric3:.2f}%\")"
      ],
      "execution_count": 14,
      "outputs": [
        {
          "output_type": "stream",
          "text": [
            "313/313 [==============================] - 4s 13ms/step - loss: 1.4001 - accuracy: 0.4917\n",
            "Test loss 1.4001, accuracy 0.49%\n"
          ],
          "name": "stdout"
        }
      ]
    },
    {
      "cell_type": "markdown",
      "metadata": {
        "id": "geiK4CqP77Wy"
      },
      "source": [
        "Качество выросло до 49%"
      ]
    },
    {
      "cell_type": "markdown",
      "metadata": {
        "id": "878l3UnowZsR"
      },
      "source": [
        "3 Увеличим глубину сети (от базовой модели) не меняя количество каналов"
      ]
    },
    {
      "cell_type": "code",
      "metadata": {
        "colab": {
          "base_uri": "https://localhost:8080/"
        },
        "id": "6xFyKyRWwiwQ",
        "outputId": "13a00204-bf73-4728-a2aa-216ed8d0d026"
      },
      "source": [
        "# инициализация пустой модели\n",
        "model11 = Sequential()\n",
        "# первый сверточный слой\n",
        "model11.add(layers.Conv2D(2, (5, 5), strides=(1, 1),\n",
        "                        activation='relu',\n",
        "                        input_shape=(32, 32, 3),\n",
        "                        padding=\"valid\"))\n",
        "# второй пуллинговый слой\n",
        "model11.add(layers.AveragePooling2D(pool_size=(2, 2),\n",
        "                                  strides=(1, 1),\n",
        "                                  padding='same'))\n",
        "# третий сверточный слой\n",
        "model11.add(layers.Conv2D(4, (4, 4), strides=(1, 1),\n",
        "                        activation='relu',\n",
        "                        padding='same'))\n",
        "\n",
        "# четвертый пуллинговый слой\n",
        "model11.add(layers.AveragePooling2D(pool_size=(2, 2),\n",
        "                                  strides=(2, 2),\n",
        "                                  padding='same'))\n",
        "# пятый сверточный слой\n",
        "model11.add(layers.Conv2D(4, (4, 4), strides=(1, 1),\n",
        "                        activation='relu',\n",
        "                        padding='same'))\n",
        "\n",
        "# шестой пуллинговый слой\n",
        "model11.add(layers.AveragePooling2D(pool_size=(1, 1),\n",
        "                                  strides=(1, 1),\n",
        "                                  padding='same'))\n",
        "# сельмой сверточный слой\n",
        "model11.add(layers.Conv2D(8, (3, 3), strides=(1, 1),\n",
        "                        activation='sigmoid',\n",
        "                        padding='valid'))\n",
        "\n",
        "# восьмой пуллинговый слой\n",
        "model11.add(layers.MaxPooling2D(pool_size=(2, 2),\n",
        "                                  strides=(2, 2),\n",
        "                                  padding='same'))\n",
        "# сглаживание CNN выхода чтобы можно было его присоединить к полносвязному слою\n",
        "model11.add(layers.Flatten())\n",
        "\n",
        "# полносвязный слой\n",
        "model11.add(layers.Dense(72, activation='relu'))\n",
        "# полносвязный слой\n",
        "model11.add(layers.Dense(32, activation='relu'))\n",
        "# выходной слой с функцией активации softmax\n",
        "model11.add(layers.Dense(10, activation='softmax'))\n",
        "model11.summary()"
      ],
      "execution_count": 21,
      "outputs": [
        {
          "output_type": "stream",
          "text": [
            "Model: \"sequential_5\"\n",
            "_________________________________________________________________\n",
            "Layer (type)                 Output Shape              Param #   \n",
            "=================================================================\n",
            "conv2d_17 (Conv2D)           (None, 28, 28, 2)         152       \n",
            "_________________________________________________________________\n",
            "average_pooling2d_12 (Averag (None, 28, 28, 2)         0         \n",
            "_________________________________________________________________\n",
            "conv2d_18 (Conv2D)           (None, 28, 28, 4)         132       \n",
            "_________________________________________________________________\n",
            "average_pooling2d_13 (Averag (None, 14, 14, 4)         0         \n",
            "_________________________________________________________________\n",
            "conv2d_19 (Conv2D)           (None, 14, 14, 4)         260       \n",
            "_________________________________________________________________\n",
            "average_pooling2d_14 (Averag (None, 14, 14, 4)         0         \n",
            "_________________________________________________________________\n",
            "conv2d_20 (Conv2D)           (None, 12, 12, 8)         296       \n",
            "_________________________________________________________________\n",
            "max_pooling2d_5 (MaxPooling2 (None, 6, 6, 8)           0         \n",
            "_________________________________________________________________\n",
            "flatten_5 (Flatten)          (None, 288)               0         \n",
            "_________________________________________________________________\n",
            "dense_15 (Dense)             (None, 72)                20808     \n",
            "_________________________________________________________________\n",
            "dense_16 (Dense)             (None, 32)                2336      \n",
            "_________________________________________________________________\n",
            "dense_17 (Dense)             (None, 10)                330       \n",
            "=================================================================\n",
            "Total params: 24,314\n",
            "Trainable params: 24,314\n",
            "Non-trainable params: 0\n",
            "_________________________________________________________________\n"
          ],
          "name": "stdout"
        }
      ]
    },
    {
      "cell_type": "code",
      "metadata": {
        "colab": {
          "base_uri": "https://localhost:8080/"
        },
        "id": "KT8oyOho0jYN",
        "outputId": "7263c02e-ee0e-4b13-d037-ced472e31be6"
      },
      "source": [
        "# компиляция модели\n",
        "model11.compile(loss=keras.losses.categorical_crossentropy,\n",
        "              optimizer='adam',\n",
        "              metrics=[\"accuracy\"])\n",
        "\n",
        "\n",
        "hist11 = model11.fit(X_train, y_train,\n",
        "                 epochs=5,\n",
        "                 batch_size=256,\n",
        "                 validation_data=(X_test, y_test),\n",
        "                 verbose=1)"
      ],
      "execution_count": 22,
      "outputs": [
        {
          "output_type": "stream",
          "text": [
            "Epoch 1/5\n",
            "196/196 [==============================] - 39s 194ms/step - loss: 2.2788 - accuracy: 0.1226 - val_loss: 2.0132 - val_accuracy: 0.2394\n",
            "Epoch 2/5\n",
            "196/196 [==============================] - 38s 192ms/step - loss: 1.9882 - accuracy: 0.2504 - val_loss: 1.9371 - val_accuracy: 0.2744\n",
            "Epoch 3/5\n",
            "196/196 [==============================] - 38s 194ms/step - loss: 1.8939 - accuracy: 0.2906 - val_loss: 1.8209 - val_accuracy: 0.3190\n",
            "Epoch 4/5\n",
            "196/196 [==============================] - 38s 194ms/step - loss: 1.8086 - accuracy: 0.3242 - val_loss: 1.7451 - val_accuracy: 0.3554\n",
            "Epoch 5/5\n",
            "196/196 [==============================] - 38s 195ms/step - loss: 1.7463 - accuracy: 0.3559 - val_loss: 1.6880 - val_accuracy: 0.3786\n"
          ],
          "name": "stdout"
        }
      ]
    },
    {
      "cell_type": "code",
      "metadata": {
        "colab": {
          "base_uri": "https://localhost:8080/"
        },
        "id": "3P2H_r5k10UH",
        "outputId": "7e57288d-4535-49ce-f2bc-c82a1cba1092"
      },
      "source": [
        "test_loss11, test_metric11 = model11.evaluate(X_test, y_test)\n",
        "print(f\"Test loss {test_loss11:.4f}, accuracy {test_metric11:.2f}%\")"
      ],
      "execution_count": 24,
      "outputs": [
        {
          "output_type": "stream",
          "text": [
            "313/313 [==============================] - 4s 12ms/step - loss: 1.6880 - accuracy: 0.3786\n",
            "Test loss 1.6880, accuracy 0.38%\n"
          ],
          "name": "stdout"
        }
      ]
    },
    {
      "cell_type": "markdown",
      "metadata": {
        "id": "fk4RDHp_8QXx"
      },
      "source": [
        "Метрика выросла незначительно (с 37 до 38%). Добавим еще 1 слой свертка + пуллинг"
      ]
    },
    {
      "cell_type": "code",
      "metadata": {
        "colab": {
          "base_uri": "https://localhost:8080/"
        },
        "id": "0YHetQxS23t8",
        "outputId": "266852d7-2826-49b1-b258-ddc0e21aa694"
      },
      "source": [
        "# инициализация пустой модели\n",
        "model12 = Sequential()\n",
        "# первый сверточный слой\n",
        "model12.add(layers.Conv2D(2, (5, 5), strides=(1, 1),\n",
        "                        activation='relu',\n",
        "                        input_shape=(32, 32, 3),\n",
        "                        padding=\"valid\"))\n",
        "# второй пуллинговый слой\n",
        "model12.add(layers.AveragePooling2D(pool_size=(2, 2),\n",
        "                                  strides=(1, 1),\n",
        "                                  padding='same'))\n",
        "# третий сверточный слой\n",
        "model12.add(layers.Conv2D(4, (4, 4), strides=(1, 1),\n",
        "                        activation='relu',\n",
        "                        padding='same'))\n",
        "\n",
        "# четвертый пуллинговый слой\n",
        "model12.add(layers.AveragePooling2D(pool_size=(2, 2),\n",
        "                                  strides=(2, 2),\n",
        "                                  padding='same'))\n",
        "# пятый сверточный слой\n",
        "model12.add(layers.Conv2D(4, (4, 4), strides=(1, 1),\n",
        "                        activation='relu',\n",
        "                        padding='same'))\n",
        "\n",
        "# шестой пуллинговый слой\n",
        "model12.add(layers.AveragePooling2D(pool_size=(1, 1),\n",
        "                                  strides=(1, 1),\n",
        "                                  padding='same'))\n",
        "# сельмой сверточный слой\n",
        "model12.add(layers.Conv2D(8, (3, 3), strides=(1, 1),\n",
        "                        activation='sigmoid',\n",
        "                        padding='valid'))\n",
        "\n",
        "# восьмой пуллинговый слой\n",
        "model12.add(layers.MaxPooling2D(pool_size=(2, 2),\n",
        "                                  strides=(2, 2),\n",
        "                                  padding='same'))\n",
        "# девятый сверточный слой\n",
        "model12.add(layers.Conv2D(8, (3, 3), strides=(1, 1),\n",
        "                        activation='sigmoid',\n",
        "                        padding='same'))\n",
        "\n",
        "# десятый пуллинговый слой\n",
        "model12.add(layers.MaxPooling2D(pool_size=(1, 1),\n",
        "                                  strides=(1, 1),\n",
        "                                  padding='same'))\n",
        "# сглаживание CNN выхода чтобы можно было его присоединить к полносвязному слою\n",
        "model12.add(layers.Flatten())\n",
        "\n",
        "# полносвязный слой\n",
        "model12.add(layers.Dense(72, activation='relu'))\n",
        "# полносвязный слой\n",
        "model12.add(layers.Dense(32, activation='relu'))\n",
        "# выходной слой с функцией активации softmax\n",
        "model12.add(layers.Dense(10, activation='softmax'))\n",
        "model12.summary()"
      ],
      "execution_count": 25,
      "outputs": [
        {
          "output_type": "stream",
          "text": [
            "Model: \"sequential_6\"\n",
            "_________________________________________________________________\n",
            "Layer (type)                 Output Shape              Param #   \n",
            "=================================================================\n",
            "conv2d_21 (Conv2D)           (None, 28, 28, 2)         152       \n",
            "_________________________________________________________________\n",
            "average_pooling2d_15 (Averag (None, 28, 28, 2)         0         \n",
            "_________________________________________________________________\n",
            "conv2d_22 (Conv2D)           (None, 28, 28, 4)         132       \n",
            "_________________________________________________________________\n",
            "average_pooling2d_16 (Averag (None, 14, 14, 4)         0         \n",
            "_________________________________________________________________\n",
            "conv2d_23 (Conv2D)           (None, 14, 14, 4)         260       \n",
            "_________________________________________________________________\n",
            "average_pooling2d_17 (Averag (None, 14, 14, 4)         0         \n",
            "_________________________________________________________________\n",
            "conv2d_24 (Conv2D)           (None, 12, 12, 8)         296       \n",
            "_________________________________________________________________\n",
            "max_pooling2d_6 (MaxPooling2 (None, 6, 6, 8)           0         \n",
            "_________________________________________________________________\n",
            "conv2d_25 (Conv2D)           (None, 6, 6, 8)           584       \n",
            "_________________________________________________________________\n",
            "max_pooling2d_7 (MaxPooling2 (None, 6, 6, 8)           0         \n",
            "_________________________________________________________________\n",
            "flatten_6 (Flatten)          (None, 288)               0         \n",
            "_________________________________________________________________\n",
            "dense_18 (Dense)             (None, 72)                20808     \n",
            "_________________________________________________________________\n",
            "dense_19 (Dense)             (None, 32)                2336      \n",
            "_________________________________________________________________\n",
            "dense_20 (Dense)             (None, 10)                330       \n",
            "=================================================================\n",
            "Total params: 24,898\n",
            "Trainable params: 24,898\n",
            "Non-trainable params: 0\n",
            "_________________________________________________________________\n"
          ],
          "name": "stdout"
        }
      ]
    },
    {
      "cell_type": "code",
      "metadata": {
        "colab": {
          "base_uri": "https://localhost:8080/"
        },
        "id": "-nbFOuIc4AU6",
        "outputId": "0b70423d-de54-49a0-b633-3acf64196579"
      },
      "source": [
        "# компиляция модели\n",
        "model12.compile(loss=keras.losses.categorical_crossentropy,\n",
        "              optimizer='adam',\n",
        "              metrics=[\"accuracy\"])\n",
        "\n",
        "\n",
        "hist12 = model12.fit(X_train, y_train,\n",
        "                 epochs=5,\n",
        "                 batch_size=256,\n",
        "                 validation_data=(X_test, y_test),\n",
        "                 verbose=1)"
      ],
      "execution_count": 26,
      "outputs": [
        {
          "output_type": "stream",
          "text": [
            "Epoch 1/5\n",
            "196/196 [==============================] - 43s 215ms/step - loss: 2.2910 - accuracy: 0.1100 - val_loss: 2.1203 - val_accuracy: 0.2051\n",
            "Epoch 2/5\n",
            "196/196 [==============================] - 40s 206ms/step - loss: 2.0339 - accuracy: 0.2420 - val_loss: 1.8435 - val_accuracy: 0.3241\n",
            "Epoch 3/5\n",
            "196/196 [==============================] - 41s 208ms/step - loss: 1.8318 - accuracy: 0.3266 - val_loss: 1.8095 - val_accuracy: 0.3381\n",
            "Epoch 4/5\n",
            "196/196 [==============================] - 40s 205ms/step - loss: 1.7835 - accuracy: 0.3453 - val_loss: 1.7495 - val_accuracy: 0.3624\n",
            "Epoch 5/5\n",
            "196/196 [==============================] - 40s 206ms/step - loss: 1.7458 - accuracy: 0.3620 - val_loss: 1.7417 - val_accuracy: 0.3667\n"
          ],
          "name": "stdout"
        }
      ]
    },
    {
      "cell_type": "code",
      "metadata": {
        "colab": {
          "base_uri": "https://localhost:8080/"
        },
        "id": "1XSORfEB4-pO",
        "outputId": "45cc1b19-95f5-4e5a-af80-b04bc3b24c98"
      },
      "source": [
        "test_loss12, test_metric12 = model12.evaluate(X_test, y_test)\n",
        "print(f\"Test loss {test_loss12:.4f}, accuracy {test_metric12:.2f}%\")"
      ],
      "execution_count": 27,
      "outputs": [
        {
          "output_type": "stream",
          "text": [
            "313/313 [==============================] - 4s 13ms/step - loss: 1.7417 - accuracy: 0.3667\n",
            "Test loss 1.7417, accuracy 0.37%\n"
          ],
          "name": "stdout"
        }
      ]
    },
    {
      "cell_type": "markdown",
      "metadata": {
        "id": "k0h28QNc8oZY"
      },
      "source": [
        "Метрика упала (даже немного ниже базовой). 36.67%\n",
        "Скорее всего, это связано с затуханием градиента при увеличении глубины сети."
      ]
    },
    {
      "cell_type": "markdown",
      "metadata": {
        "id": "wEQaVvrn88Cg"
      },
      "source": [
        "Задание 4*. Создадим полносвязную сеть в которой количество нейронов соответствует количеству каналов базовой модели. (Полагаю это эквивалентно). А последние слои одинаковые у базовой и текущей модели"
      ]
    },
    {
      "cell_type": "code",
      "metadata": {
        "colab": {
          "base_uri": "https://localhost:8080/"
        },
        "id": "Hfm58Xp_9BbZ",
        "outputId": "9748bee2-c507-4c61-a3ba-05fbb6ed1084"
      },
      "source": [
        "# инициализация пустой модели\n",
        "model13 = Sequential()\n",
        "# input\n",
        "# первый сверточный слой\n",
        "# Dense\n",
        "model13.add(layers.Flatten(input_shape=(32,32,3)))\n",
        "model13.add(Dense(2, activation='relu'))\n",
        "model13.add(Dense(4, activation='relu'))\n",
        "model13.add(Dense(8, activation='sigmoid'))\n",
        "# полносвязный слой\n",
        "model13.add(layers.Dense(72, activation='relu'))\n",
        "# полносвязный слой\n",
        "model13.add(layers.Dense(32, activation='relu'))\n",
        "# выходной слой с функцией активации softmax\n",
        "model13.add(layers.Dense(10, activation='softmax'))\n",
        "model13.summary()"
      ],
      "execution_count": 41,
      "outputs": [
        {
          "output_type": "stream",
          "text": [
            "Model: \"sequential_14\"\n",
            "_________________________________________________________________\n",
            "Layer (type)                 Output Shape              Param #   \n",
            "=================================================================\n",
            "flatten_11 (Flatten)         (None, 3072)              0         \n",
            "_________________________________________________________________\n",
            "dense_57 (Dense)             (None, 2)                 6146      \n",
            "_________________________________________________________________\n",
            "dense_58 (Dense)             (None, 4)                 12        \n",
            "_________________________________________________________________\n",
            "dense_59 (Dense)             (None, 8)                 40        \n",
            "_________________________________________________________________\n",
            "dense_60 (Dense)             (None, 72)                648       \n",
            "_________________________________________________________________\n",
            "dense_61 (Dense)             (None, 32)                2336      \n",
            "_________________________________________________________________\n",
            "dense_62 (Dense)             (None, 10)                330       \n",
            "=================================================================\n",
            "Total params: 9,512\n",
            "Trainable params: 9,512\n",
            "Non-trainable params: 0\n",
            "_________________________________________________________________\n"
          ],
          "name": "stdout"
        }
      ]
    },
    {
      "cell_type": "code",
      "metadata": {
        "colab": {
          "base_uri": "https://localhost:8080/"
        },
        "id": "FhRT5KKf9B0W",
        "outputId": "4835a1b6-1bef-4354-c022-c47c4d94d1b8"
      },
      "source": [
        "# компиляция модели\n",
        "model13.compile(loss=keras.losses.categorical_crossentropy,\n",
        "              optimizer='adam',\n",
        "              metrics=[\"accuracy\"])\n",
        "\n",
        "\n",
        "hist13 = model13.fit(X_train, y_train,\n",
        "                 epochs=5,\n",
        "                 batch_size=256,\n",
        "                 validation_data=(X_test, y_test),\n",
        "                 verbose=1)"
      ],
      "execution_count": 42,
      "outputs": [
        {
          "output_type": "stream",
          "text": [
            "Epoch 1/5\n",
            "196/196 [==============================] - 2s 8ms/step - loss: 2.2659 - accuracy: 0.1339 - val_loss: 2.0661 - val_accuracy: 0.1868\n",
            "Epoch 2/5\n",
            "196/196 [==============================] - 1s 7ms/step - loss: 2.0588 - accuracy: 0.1926 - val_loss: 2.0415 - val_accuracy: 0.1886\n",
            "Epoch 3/5\n",
            "196/196 [==============================] - 1s 7ms/step - loss: 2.0465 - accuracy: 0.1908 - val_loss: 2.0355 - val_accuracy: 0.2002\n",
            "Epoch 4/5\n",
            "196/196 [==============================] - 1s 7ms/step - loss: 2.0388 - accuracy: 0.2036 - val_loss: 2.0297 - val_accuracy: 0.2044\n",
            "Epoch 5/5\n",
            "196/196 [==============================] - 1s 7ms/step - loss: 2.0299 - accuracy: 0.2039 - val_loss: 2.0232 - val_accuracy: 0.2045\n"
          ],
          "name": "stdout"
        }
      ]
    },
    {
      "cell_type": "code",
      "metadata": {
        "colab": {
          "base_uri": "https://localhost:8080/"
        },
        "id": "Q5sCHFF1EFcZ",
        "outputId": "1f5c7338-dd30-4996-cca1-9fe5110ca962"
      },
      "source": [
        "test_loss13, test_metric13 = model13.evaluate(X_test, y_test)\n",
        "print(f\"Test loss {test_loss13:.4f}, accuracy {test_metric13:.2f}%\")"
      ],
      "execution_count": 43,
      "outputs": [
        {
          "output_type": "stream",
          "text": [
            "313/313 [==============================] - 0s 898us/step - loss: 2.0232 - accuracy: 0.2045\n",
            "Test loss 2.0232, accuracy 0.20%\n"
          ],
          "name": "stdout"
        }
      ]
    },
    {
      "cell_type": "markdown",
      "metadata": {
        "id": "PD5bBQ549d30"
      },
      "source": [
        "Полносвязная сеть обучается быстрее при сопоставимых параметрах, однако метрика значительно хуже: 20% против 37%"
      ]
    },
    {
      "cell_type": "code",
      "metadata": {
        "id": "Wa2OmstU9uGb"
      },
      "source": [
        ""
      ],
      "execution_count": null,
      "outputs": []
    }
  ]
}